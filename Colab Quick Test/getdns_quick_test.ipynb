{
  "nbformat": 4,
  "nbformat_minor": 0,
  "metadata": {
    "colab": {
      "provenance": []
    },
    "kernelspec": {
      "name": "python3",
      "display_name": "Python 3"
    },
    "language_info": {
      "name": "python"
    }
  },
  "cells": [
    {
      "cell_type": "code",
      "source": [
        "!apt install build-essential libunbound-dev libidn2-dev libssl-dev cmake\n",
        "\n",
        "!git clone https://github.com/getdnsapi/getdns.git"
      ],
      "metadata": {
        "colab": {
          "base_uri": "https://localhost:8080/"
        },
        "id": "v9mJgTelZltr",
        "outputId": "6d6cb6fa-f594-4a86-81ce-6a843d7c6ce1"
      },
      "execution_count": 7,
      "outputs": [
        {
          "output_type": "stream",
          "name": "stdout",
          "text": [
            "Reading package lists... Done\n",
            "Building dependency tree... Done\n",
            "Reading state information... Done\n",
            "build-essential is already the newest version (12.9ubuntu3).\n",
            "cmake is already the newest version (3.22.1-1ubuntu1.22.04.2).\n",
            "libssl-dev is already the newest version (3.0.2-0ubuntu1.15).\n",
            "The following additional packages will be installed:\n",
            "  libunbound8\n",
            "The following NEW packages will be installed:\n",
            "  libidn2-dev libunbound-dev libunbound8\n",
            "0 upgraded, 3 newly installed, 0 to remove and 51 not upgraded.\n",
            "Need to get 996 kB of archives.\n",
            "After this operation, 3,319 kB of additional disk space will be used.\n",
            "Get:1 http://archive.ubuntu.com/ubuntu jammy-updates/main amd64 libunbound8 amd64 1.13.1-1ubuntu5.5 [399 kB]\n",
            "Get:2 http://archive.ubuntu.com/ubuntu jammy-updates/main amd64 libunbound-dev amd64 1.13.1-1ubuntu5.5 [510 kB]\n",
            "Get:3 http://archive.ubuntu.com/ubuntu jammy/main amd64 libidn2-dev amd64 2.3.2-2build1 [86.7 kB]\n",
            "Fetched 996 kB in 0s (2,508 kB/s)\n",
            "Selecting previously unselected package libunbound8:amd64.\n",
            "(Reading database ... 121978 files and directories currently installed.)\n",
            "Preparing to unpack .../libunbound8_1.13.1-1ubuntu5.5_amd64.deb ...\n",
            "Unpacking libunbound8:amd64 (1.13.1-1ubuntu5.5) ...\n",
            "Selecting previously unselected package libunbound-dev:amd64.\n",
            "Preparing to unpack .../libunbound-dev_1.13.1-1ubuntu5.5_amd64.deb ...\n",
            "Unpacking libunbound-dev:amd64 (1.13.1-1ubuntu5.5) ...\n",
            "Selecting previously unselected package libidn2-dev:amd64.\n",
            "Preparing to unpack .../libidn2-dev_2.3.2-2build1_amd64.deb ...\n",
            "Unpacking libidn2-dev:amd64 (2.3.2-2build1) ...\n",
            "Setting up libunbound8:amd64 (1.13.1-1ubuntu5.5) ...\n",
            "Setting up libunbound-dev:amd64 (1.13.1-1ubuntu5.5) ...\n",
            "Setting up libidn2-dev:amd64 (2.3.2-2build1) ...\n",
            "Processing triggers for man-db (2.10.2-1) ...\n",
            "Processing triggers for libc-bin (2.35-0ubuntu3.4) ...\n",
            "/sbin/ldconfig.real: /usr/local/lib/libtbbbind_2_5.so.3 is not a symbolic link\n",
            "\n",
            "/sbin/ldconfig.real: /usr/local/lib/libtbb.so.12 is not a symbolic link\n",
            "\n",
            "/sbin/ldconfig.real: /usr/local/lib/libtbbmalloc.so.2 is not a symbolic link\n",
            "\n",
            "/sbin/ldconfig.real: /usr/local/lib/libtbbbind.so.3 is not a symbolic link\n",
            "\n",
            "/sbin/ldconfig.real: /usr/local/lib/libtbbmalloc_proxy.so.2 is not a symbolic link\n",
            "\n",
            "/sbin/ldconfig.real: /usr/local/lib/libtbbbind_2_0.so.3 is not a symbolic link\n",
            "\n",
            "Cloning into 'getdns'...\n",
            "remote: Enumerating objects: 19210, done.\u001b[K\n",
            "remote: Counting objects: 100% (714/714), done.\u001b[K\n",
            "remote: Compressing objects: 100% (280/280), done.\u001b[K\n",
            "remote: Total 19210 (delta 453), reused 678 (delta 434), pack-reused 18496\u001b[K\n",
            "Receiving objects: 100% (19210/19210), 11.24 MiB | 21.40 MiB/s, done.\n",
            "Resolving deltas: 100% (14579/14579), done.\n"
          ]
        }
      ]
    },
    {
      "cell_type": "code",
      "source": [
        "!cd getdns && mkdir build"
      ],
      "metadata": {
        "id": "ZS9xHFQOaPg4"
      },
      "execution_count": 8,
      "outputs": []
    },
    {
      "cell_type": "code",
      "source": [
        "!cd getdns && git submodule update --init"
      ],
      "metadata": {
        "id": "4DsvYn7gaQGX",
        "colab": {
          "base_uri": "https://localhost:8080/"
        },
        "outputId": "c45f4745-1ace-45ee-f88f-be8adf45a66c"
      },
      "execution_count": 14,
      "outputs": [
        {
          "output_type": "stream",
          "name": "stdout",
          "text": [
            "Submodule 'src/test/jsmn' (https://github.com/getdnsapi/jsmn.git) registered for path 'src/jsmn'\n",
            "Submodule 'src/ssl_dane' (https://github.com/getdnsapi/ssl_dane) registered for path 'src/ssl_dane'\n",
            "Submodule 'src/yxml' (https://github.com/getdnsapi/yxml.git) registered for path 'src/yxml'\n",
            "Submodule 'stubby' (https://github.com/getdnsapi/stubby.git) registered for path 'stubby'\n",
            "Cloning into '/content/getdns/src/jsmn'...\n",
            "Cloning into '/content/getdns/src/ssl_dane'...\n",
            "Cloning into '/content/getdns/src/yxml'...\n",
            "Cloning into '/content/getdns/stubby'...\n",
            "Submodule path 'src/jsmn': checked out '686a240cc8186a9a799ebafb0b32e67991b5abfc'\n",
            "Submodule path 'src/ssl_dane': checked out '89ff45974cafa7e03f0503ed013fe3e680698c20'\n",
            "Submodule path 'src/yxml': checked out '57497cdcacb6e5538e6bf6dad0b274896d9b3962'\n",
            "Submodule path 'stubby': checked out 'b53867d1ec467822dbd9e1a0ad6598f84a9f5ed7'\n"
          ]
        }
      ]
    },
    {
      "cell_type": "code",
      "source": [
        "!cd getdns/build && cmake .. && make && make install"
      ],
      "metadata": {
        "id": "SuNHWnhaaguV",
        "colab": {
          "base_uri": "https://localhost:8080/"
        },
        "outputId": "cce784b3-8581-4a94-daa1-6317dca86cfc"
      },
      "execution_count": 15,
      "outputs": [
        {
          "output_type": "stream",
          "name": "stdout",
          "text": [
            "-- Found OpenSSL: /usr/lib/x86_64-linux-gnu/libcrypto.so (found suitable version \"3.0.2\", minimum required is \"1.0.2\")  \n",
            "-- Found OpenSSL: /usr/lib/x86_64-linux-gnu/libcrypto.so (found version \"3.0.2\")  \n",
            "-- Could NOT find Libev (missing: LIBEV_LIBRARIES LIBEV_INCLUDE_DIR) \n",
            "\u001b[33mCMake Warning at CMakeLists.txt:817 (message):\n",
            "  Libev support library build requested, but libev not found.  Disabled.\n",
            "\n",
            "\u001b[0m\n",
            "-- Checking for module 'libuv'\n",
            "--   No package 'libuv' found\n",
            "-- Could NOT find Libuv (missing: LIBUV_LIBRARIES LIBUV_INCLUDE_DIR) \n",
            "\u001b[33mCMake Warning at CMakeLists.txt:920 (message):\n",
            "  Libuv support library build requested, but libuv not found.  Disabled.\n",
            "\n",
            "\u001b[0m\n",
            "-- Configuring done (0.5s)\n",
            "-- Generating done (0.1s)\n",
            "-- Build files have been written to: /content/getdns/build\n",
            "[  1%] \u001b[32mBuilding C object CMakeFiles/getdns_objects.dir/src/anchor.c.o\u001b[0m\n",
            "[  2%] \u001b[32mBuilding C object CMakeFiles/getdns_objects.dir/src/const-info.c.o\u001b[0m\n",
            "[  4%] \u001b[32mBuilding C object CMakeFiles/getdns_objects.dir/src/convert.c.o\u001b[0m\n",
            "[  5%] \u001b[32mBuilding C object CMakeFiles/getdns_objects.dir/src/context.c.o\u001b[0m\n",
            "[  6%] \u001b[32mBuilding C object CMakeFiles/getdns_objects.dir/src/dict.c.o\u001b[0m\n",
            "[  8%] \u001b[32mBuilding C object CMakeFiles/getdns_objects.dir/src/dnssec.c.o\u001b[0m\n",
            "[  9%] \u001b[32mBuilding C object CMakeFiles/getdns_objects.dir/src/general.c.o\u001b[0m\n",
            "[ 10%] \u001b[32mBuilding C object CMakeFiles/getdns_objects.dir/src/list.c.o\u001b[0m\n",
            "[ 12%] \u001b[32mBuilding C object CMakeFiles/getdns_objects.dir/src/request-internal.c.o\u001b[0m\n",
            "[ 13%] \u001b[32mBuilding C object CMakeFiles/getdns_objects.dir/src/mdns.c.o\u001b[0m\n",
            "[ 15%] \u001b[32mBuilding C object CMakeFiles/getdns_objects.dir/src/platform.c.o\u001b[0m\n",
            "[ 16%] \u001b[32mBuilding C object CMakeFiles/getdns_objects.dir/src/pubkey-pinning.c.o\u001b[0m\n",
            "[ 17%] \u001b[32mBuilding C object CMakeFiles/getdns_objects.dir/src/rr-dict.c.o\u001b[0m\n",
            "[ 19%] \u001b[32mBuilding C object CMakeFiles/getdns_objects.dir/src/rr-iter.c.o\u001b[0m\n",
            "[ 20%] \u001b[32mBuilding C object CMakeFiles/getdns_objects.dir/src/server.c.o\u001b[0m\n",
            "[ 21%] \u001b[32mBuilding C object CMakeFiles/getdns_objects.dir/src/stub.c.o\u001b[0m\n",
            "[ 23%] \u001b[32mBuilding C object CMakeFiles/getdns_objects.dir/src/sync.c.o\u001b[0m\n",
            "[ 24%] \u001b[32mBuilding C object CMakeFiles/getdns_objects.dir/src/ub_loop.c.o\u001b[0m\n",
            "[ 26%] \u001b[32mBuilding C object CMakeFiles/getdns_objects.dir/src/util-internal.c.o\u001b[0m\n",
            "[ 27%] \u001b[32mBuilding C object CMakeFiles/getdns_objects.dir/src/extension/poll_eventloop.c.o\u001b[0m\n",
            "[ 28%] \u001b[32mBuilding C object CMakeFiles/getdns_objects.dir/src/gldns/keyraw.c.o\u001b[0m\n",
            "[ 30%] \u001b[32mBuilding C object CMakeFiles/getdns_objects.dir/src/gldns/gbuffer.c.o\u001b[0m\n",
            "[ 31%] \u001b[32mBuilding C object CMakeFiles/getdns_objects.dir/src/gldns/wire2str.c.o\u001b[0m\n",
            "[ 32%] \u001b[32mBuilding C object CMakeFiles/getdns_objects.dir/src/gldns/parse.c.o\u001b[0m\n",
            "[ 34%] \u001b[32mBuilding C object CMakeFiles/getdns_objects.dir/src/gldns/parseutil.c.o\u001b[0m\n",
            "[ 35%] \u001b[32mBuilding C object CMakeFiles/getdns_objects.dir/src/gldns/rrdef.c.o\u001b[0m\n",
            "[ 36%] \u001b[32mBuilding C object CMakeFiles/getdns_objects.dir/src/gldns/str2wire.c.o\u001b[0m\n",
            "[ 38%] \u001b[32mBuilding C object CMakeFiles/getdns_objects.dir/src/util/rbtree.c.o\u001b[0m\n",
            "[ 39%] \u001b[32mBuilding C object CMakeFiles/getdns_objects.dir/src/util/lruhash.c.o\u001b[0m\n",
            "[ 41%] \u001b[32mBuilding C object CMakeFiles/getdns_objects.dir/src/util/lookup3.c.o\u001b[0m\n",
            "[ 42%] \u001b[32mBuilding C object CMakeFiles/getdns_objects.dir/src/util/locks.c.o\u001b[0m\n",
            "[ 43%] \u001b[32mBuilding C object CMakeFiles/getdns_objects.dir/src/jsmn/jsmn.c.o\u001b[0m\n",
            "[ 45%] \u001b[32mBuilding C object CMakeFiles/getdns_objects.dir/src/yxml/yxml.c.o\u001b[0m\n",
            "[ 46%] \u001b[32mBuilding C object CMakeFiles/getdns_objects.dir/src/tls/val_secalgo.c.o\u001b[0m\n",
            "[ 47%] \u001b[32mBuilding C object CMakeFiles/getdns_objects.dir/src/tls/anchor-internal.c.o\u001b[0m\n",
            "[ 49%] \u001b[32mBuilding C object CMakeFiles/getdns_objects.dir/src/openssl/tls.c.o\u001b[0m\n",
            "[ 50%] \u001b[32mBuilding C object CMakeFiles/getdns_objects.dir/src/openssl/pubkey-pinning-internal.c.o\u001b[0m\n",
            "[ 52%] \u001b[32mBuilding C object CMakeFiles/getdns_objects.dir/src/openssl/keyraw-internal.c.o\u001b[0m\n",
            "[ 53%] \u001b[32mBuilding C object CMakeFiles/getdns_objects.dir/version.c.o\u001b[0m\n",
            "[ 53%] Built target getdns_objects\n",
            "[ 54%] \u001b[32m\u001b[1mLinking C static library libgetdns.a\u001b[0m\n",
            "[ 54%] Built target getdns\n",
            "[ 56%] \u001b[32m\u001b[1mLinking C shared library libgetdns.so\u001b[0m\n",
            "[ 56%] Built target getdns_shared\n",
            "[ 57%] \u001b[32mBuilding C object CMakeFiles/event2_objects.dir/src/extension/libevent.c.o\u001b[0m\n",
            "[ 57%] Built target event2_objects\n",
            "[ 58%] \u001b[32m\u001b[1mLinking C static library libgetdns_ext_event.a\u001b[0m\n",
            "[ 58%] Built target getdns_ext_event\n",
            "[ 60%] \u001b[32m\u001b[1mLinking C shared library libgetdns_ext_event.so\u001b[0m\n",
            "[ 60%] Built target getdns_ext_event_shared\n",
            "[ 61%] \u001b[32mBuilding C object CMakeFiles/getdns_query.dir/src/tools/getdns_query.c.o\u001b[0m\n",
            "[ 63%] \u001b[32m\u001b[1mLinking C executable getdns_query\u001b[0m\n",
            "[ 63%] Built target getdns_query\n",
            "[ 64%] \u001b[32mBuilding C object CMakeFiles/getdns_server_mon.dir/src/tools/getdns_server_mon.c.o\u001b[0m\n",
            "[ 65%] \u001b[32m\u001b[1mLinking C executable getdns_server_mon\u001b[0m\n",
            "[ 65%] Built target getdns_server_mon\n",
            "[ 67%] \u001b[32mBuilding C object CMakeFiles/check_getdns.dir/src/test/check_getdns_common.c.o\u001b[0m\n",
            "[ 68%] \u001b[32mBuilding C object CMakeFiles/check_getdns.dir/src/test/check_getdns_context_set_timeout.c.o\u001b[0m\n",
            "[ 69%] \u001b[32mBuilding C object CMakeFiles/check_getdns.dir/src/test/check_getdns_transport.c.o\u001b[0m\n",
            "[ 71%] \u001b[32mBuilding C object CMakeFiles/check_getdns.dir/src/test/check_getdns_selectloop.c.o\u001b[0m\n",
            "[ 72%] \u001b[32mBuilding C object CMakeFiles/check_getdns.dir/src/test/check_getdns.c.o\u001b[0m\n",
            "[ 73%] \u001b[32m\u001b[1mLinking C executable check_getdns\u001b[0m\n",
            "[ 73%] Built target check_getdns\n",
            "[ 75%] \u001b[32mBuilding C object CMakeFiles/check_getdns_event.dir/src/test/check_getdns_common.c.o\u001b[0m\n",
            "[ 76%] \u001b[32mBuilding C object CMakeFiles/check_getdns_event.dir/src/test/check_getdns_context_set_timeout.c.o\u001b[0m\n",
            "[ 78%] \u001b[32mBuilding C object CMakeFiles/check_getdns_event.dir/src/test/check_getdns_transport.c.o\u001b[0m\n",
            "[ 79%] \u001b[32mBuilding C object CMakeFiles/check_getdns_event.dir/src/test/check_getdns_selectloop.c.o\u001b[0m\n",
            "[ 80%] \u001b[32mBuilding C object CMakeFiles/check_getdns_event.dir/src/test/check_getdns.c.o\u001b[0m\n",
            "[ 82%] \u001b[32m\u001b[1mLinking C executable check_getdns_event\u001b[0m\n",
            "[ 82%] Built target check_getdns_event\n",
            "[ 83%] \u001b[32mBuilding C object CMakeFiles/tests_dict.dir/src/test/tests_dict.c.o\u001b[0m\n",
            "[ 84%] \u001b[32mBuilding C object CMakeFiles/tests_dict.dir/src/test/testmessages.c.o\u001b[0m\n",
            "[ 86%] \u001b[32m\u001b[1mLinking C executable tests_dict\u001b[0m\n",
            "[ 86%] Built target tests_dict\n",
            "[ 87%] \u001b[32mBuilding C object CMakeFiles/tests_list.dir/src/test/tests_list.c.o\u001b[0m\n",
            "[ 89%] \u001b[32mBuilding C object CMakeFiles/tests_list.dir/src/test/testmessages.c.o\u001b[0m\n",
            "[ 90%] \u001b[32m\u001b[1mLinking C executable tests_list\u001b[0m\n",
            "[ 90%] Built target tests_list\n",
            "[ 91%] \u001b[32mBuilding C object CMakeFiles/tests_namespaces.dir/src/test/tests_namespaces.c.o\u001b[0m\n",
            "[ 93%] \u001b[32m\u001b[1mLinking C executable tests_namespaces\u001b[0m\n",
            "[ 93%] Built target tests_namespaces\n",
            "[ 94%] \u001b[32mBuilding C object CMakeFiles/tests_stub_async.dir/src/test/tests_stub_async.c.o\u001b[0m\n",
            "[ 95%] \u001b[32mBuilding C object CMakeFiles/tests_stub_async.dir/src/test/testmessages.c.o\u001b[0m\n",
            "[ 97%] \u001b[32m\u001b[1mLinking C executable tests_stub_async\u001b[0m\n",
            "[ 97%] Built target tests_stub_async\n",
            "[ 98%] \u001b[32mBuilding C object CMakeFiles/tests_stub_sync.dir/src/test/tests_stub_sync.c.o\u001b[0m\n",
            "[100%] \u001b[32m\u001b[1mLinking C executable tests_stub_sync\u001b[0m\n",
            "[100%] Built target tests_stub_sync\n",
            "[ 53%] Built target getdns_objects\n",
            "[ 54%] Built target getdns\n",
            "[ 56%] Built target getdns_shared\n",
            "[ 57%] Built target event2_objects\n",
            "[ 58%] Built target getdns_ext_event\n",
            "[ 60%] Built target getdns_ext_event_shared\n",
            "[ 63%] Built target getdns_query\n",
            "[ 65%] Built target getdns_server_mon\n",
            "[ 73%] Built target check_getdns\n",
            "[ 82%] Built target check_getdns_event\n",
            "[ 86%] Built target tests_dict\n",
            "[ 90%] Built target tests_list\n",
            "[ 93%] Built target tests_namespaces\n",
            "[ 97%] Built target tests_stub_async\n",
            "[100%] Built target tests_stub_sync\n",
            "\u001b[36mInstall the project...\u001b[0m\n",
            "-- Install configuration: \"RelWithDebInfo\"\n",
            "-- Installing: /usr/local/lib/libgetdns.a\n",
            "-- Installing: /usr/local/lib/libgetdns_ext_event.a\n",
            "-- Installing: /usr/local/lib/libgetdns.so.10.2.0\n",
            "-- Installing: /usr/local/lib/libgetdns.so.10\n",
            "-- Installing: /usr/local/lib/libgetdns.so\n",
            "-- Installing: /usr/local/lib/libgetdns_ext_event.so.10.2.0\n",
            "-- Installing: /usr/local/lib/libgetdns_ext_event.so.10\n",
            "-- Set runtime path of \"/usr/local/lib/libgetdns_ext_event.so.10.2.0\" to \"\"\n",
            "-- Installing: /usr/local/lib/libgetdns_ext_event.so\n",
            "-- Installing: /usr/local/bin/getdns_query\n",
            "-- Installing: /usr/local/bin/getdns_server_mon\n",
            "-- Installing: /usr/local/include/getdns\n",
            "-- Installing: /usr/local/include/getdns/getdns_extra.h\n",
            "-- Installing: /usr/local/include/getdns/getdns_ext_libevent.h\n",
            "-- Installing: /usr/local/include/getdns/getdns.h\n",
            "-- Installing: /usr/local/share/man/man3\n",
            "-- Installing: /usr/local/share/man/man3/getdns_dict_get.3\n",
            "-- Installing: /usr/local/share/man/man3/getdns_convert.3\n",
            "-- Installing: /usr/local/share/man/man3/getdns_convert_dns_name_to_fqdn.3\n",
            "-- Installing: /usr/local/share/man/man3/getdns_context_set_limit_outstanding_queries.3\n",
            "-- Installing: /usr/local/share/man/man3/getdns_list_get_length.3\n",
            "-- Installing: /usr/local/share/man/man3/getdns_list.3\n",
            "-- Installing: /usr/local/share/man/man3/getdns_dict_create_with_extended_memory_functions.3\n",
            "-- Installing: /usr/local/share/man/man3/getdns_list_get_int.3\n",
            "-- Installing: /usr/local/share/man/man3/getdns_hostname_sync.3\n",
            "-- Installing: /usr/local/share/man/man3/getdns_context_set_suffix.3\n",
            "-- Installing: /usr/local/share/man/man3/getdns_service_sync.3\n",
            "-- Installing: /usr/local/share/man/man3/getdns_list_get_bindata.3\n",
            "-- Installing: /usr/local/share/man/man3/getdns_address_sync.3\n",
            "-- Installing: /usr/local/share/man/man3/getdns_dict_set_bindata.3\n",
            "-- Installing: /usr/local/share/man/man3/getdns_context.3\n",
            "-- Installing: /usr/local/share/man/man3/libgetdns.3\n",
            "-- Installing: /usr/local/share/man/man3/getdns_cancel_callback.3\n",
            "-- Installing: /usr/local/share/man/man3/getdns_context_set_dnssec_allowed_skew.3\n",
            "-- Installing: /usr/local/share/man/man3/getdns_dict_set_int.3\n",
            "-- Installing: /usr/local/share/man/man3/getdns_list_get_data_type.3\n",
            "-- Installing: /usr/local/share/man/man3/getdns_list_get_list.3\n",
            "-- Installing: /usr/local/share/man/man3/getdns_context_set_context_update_callback.3\n",
            "-- Installing: /usr/local/share/man/man3/getdns_context_create_with_memory_functions.3\n",
            "-- Installing: /usr/local/share/man/man3/getdns_dict_get_dict.3\n",
            "-- Installing: /usr/local/share/man/man3/getdns_context_set_namespaces.3\n",
            "-- Installing: /usr/local/share/man/man3/getdns_list_set_bindata.3\n",
            "-- Installing: /usr/local/share/man/man3/getdns_list_set_list.3\n",
            "-- Installing: /usr/local/share/man/man3/getdns_validate_dnssec.3\n",
            "-- Installing: /usr/local/share/man/man3/getdns_root_trust_anchor.3\n",
            "-- Installing: /usr/local/share/man/man3/getdns_dict_create_with_memory_functions.3\n",
            "-- Installing: /usr/local/share/man/man3/getdns_context_get_api_information.3\n",
            "-- Installing: /usr/local/share/man/man3/getdns_context_set_resolution_type.3\n",
            "-- Installing: /usr/local/share/man/man3/getdns_context_set_append_name.3\n",
            "-- Installing: /usr/local/share/man/man3/getdns_general_sync.3\n",
            "-- Installing: /usr/local/share/man/man3/getdns_dict_destroy.3\n",
            "-- Installing: /usr/local/share/man/man3/getdns_context_set_follow_redirects.3\n",
            "-- Installing: /usr/local/share/man/man3/getdns_list_set.3\n",
            "-- Installing: /usr/local/share/man/man3/getdns_dict_set_list.3\n",
            "-- Installing: /usr/local/share/man/man3/getdns_hostname.3\n",
            "-- Installing: /usr/local/share/man/man3/getdns_list_destroy.3\n",
            "-- Installing: /usr/local/share/man/man3/getdns_general.3\n",
            "-- Installing: /usr/local/share/man/man3/getdns_display_ip_address.3\n",
            "-- Installing: /usr/local/share/man/man3/getdns_context_set_dns_transport.3\n",
            "-- Installing: /usr/local/share/man/man3/getdns_pretty_print_dict.3\n",
            "-- Installing: /usr/local/share/man/man3/getdns_dict_set.3\n",
            "-- Installing: /usr/local/share/man/man3/getdns_list_create.3\n",
            "-- Installing: /usr/local/share/man/man3/getdns_list_get_dict.3\n",
            "-- Installing: /usr/local/share/man/man3/getdns_address.3\n",
            "-- Installing: /usr/local/share/man/man3/getdns_dict_get_names.3\n",
            "-- Installing: /usr/local/share/man/man3/getdns_dict_set_dict.3\n",
            "-- Installing: /usr/local/share/man/man3/getdns_context_set_dnssec_trust_anchors.3\n",
            "-- Installing: /usr/local/share/man/man3/getdns_convert_fqdn_to_dns_name.3\n",
            "-- Installing: /usr/local/share/man/man3/getdns_dict_get_list.3\n",
            "-- Installing: /usr/local/share/man/man3/getdns_context_create.3\n",
            "-- Installing: /usr/local/share/man/man3/getdns_context_set.3\n",
            "-- Installing: /usr/local/share/man/man3/getdns_dict_get_data_type.3\n",
            "-- Installing: /usr/local/share/man/man3/getdns_context_create_with_extended_memory_functions.3\n",
            "-- Installing: /usr/local/share/man/man3/getdns_context_destroy.3\n",
            "-- Installing: /usr/local/share/man/man3/getdns_dict_create.3\n",
            "-- Installing: /usr/local/share/man/man3/getdns_dict_get_int.3\n",
            "-- Installing: /usr/local/share/man/man3/getdns_list_set_int.3\n",
            "-- Installing: /usr/local/share/man/man3/getdns_dict_get_bindata.3\n",
            "-- Installing: /usr/local/share/man/man3/getdns_context_set_dns_root_servers.3\n",
            "-- Installing: /usr/local/share/man/man3/getdns_list_create_with_memory_functions.3\n",
            "-- Installing: /usr/local/share/man/man3/getdns_dict.3\n",
            "-- Installing: /usr/local/share/man/man3/getdns_service.3\n",
            "-- Installing: /usr/local/share/man/man3/getdns_list_create_with_extended_memory_functions.3\n",
            "-- Installing: /usr/local/share/man/man3/getdns_list_set_dict.3\n",
            "-- Installing: /usr/local/share/man/man3/getdns_list_get.3\n",
            "-- Installing: /usr/local/share/man/man3/getdns_context_set_timeout.3\n",
            "-- Installing: /usr/local/share/doc/getdns/AUTHORS\n",
            "-- Installing: /usr/local/share/doc/getdns/ChangeLog\n",
            "-- Installing: /usr/local/share/doc/getdns/COPYING\n",
            "-- Installing: /usr/local/share/doc/getdns/LICENSE\n",
            "-- Installing: /usr/local/share/doc/getdns/NEWS\n",
            "-- Installing: /usr/local/share/doc/getdns/README.md\n",
            "-- Installing: /usr/local/share/doc/getdns/spec/index.html\n",
            "-- Installing: /usr/local/lib/pkgconfig/getdns.pc\n",
            "\u001b[0m***\n",
            "***  !!! IMPORTANT !!!!\n",
            "***\n",
            "***  From release 1.2.0, getdns comes with built-in DNSSEC\n",
            "***  trust anchor management.  External trust anchor management,\n",
            "***  for example with unbound-anchor, is no longer necessary\n",
            "***  and no longer recommended.\n",
            "***\n",
            "***  Previously installed trust anchors, in the default location -\n",
            "***\n",
            "***        /etc/unbound/getdns-root.key\n",
            "***\n",
            "***  - will be preferred and used for DNSSEC validation, however\n",
            "***  getdns will fallback to trust-anchors obtained via built-in\n",
            "***  trust anchor management when the anchors from the default\n",
            "***  location fail to validate the root DNSKEY rrset.\n",
            "***\n",
            "***  To prevent expired DNSSEC trust anchors to be used for\n",
            "***  validation, we strongly recommend removing the trust anchors\n",
            "***  on the default location when there is no active external\n",
            "***  trust anchor management keeping it up-to-date.\n",
            "***\u001b[0m\n"
          ]
        }
      ]
    },
    {
      "cell_type": "code",
      "source": [
        "!sudo apt-get install check"
      ],
      "metadata": {
        "colab": {
          "base_uri": "https://localhost:8080/"
        },
        "id": "zRaRMxdNf0le",
        "outputId": "ef6f73cb-b814-429d-ef47-d15f0d685db2"
      },
      "execution_count": 12,
      "outputs": [
        {
          "output_type": "stream",
          "name": "stdout",
          "text": [
            "Reading package lists... Done\n",
            "Building dependency tree... Done\n",
            "Reading state information... Done\n",
            "check is already the newest version (0.15.2-2).\n",
            "0 upgraded, 0 newly installed, 0 to remove and 51 not upgraded.\n"
          ]
        }
      ]
    },
    {
      "cell_type": "code",
      "execution_count": 16,
      "metadata": {
        "colab": {
          "base_uri": "https://localhost:8080/"
        },
        "collapsed": true,
        "id": "mufGQodfZEZs",
        "outputId": "c33dae23-3fa0-4ff5-c74f-a3f58fff773e"
      },
      "outputs": [
        {
          "output_type": "stream",
          "name": "stdout",
          "text": [
            "\u001b[33m\r0% [Working]\u001b[0m\r            \rHit:1 http://archive.ubuntu.com/ubuntu jammy InRelease\n",
            "\u001b[33m\r0% [Waiting for headers] [Connected to cloud.r-project.org (108.138.128.85)] [Connecting to ppa.laun\u001b[0m\r                                                                                                    \rHit:2 https://developer.download.nvidia.com/compute/cuda/repos/ubuntu2204/x86_64  InRelease\n",
            "\u001b[33m\r0% [Waiting for headers] [Waiting for headers] [Waiting for headers] [Connecting to ppa.launchpadcon\u001b[0m\r                                                                                                    \rHit:3 http://archive.ubuntu.com/ubuntu jammy-updates InRelease\n",
            "\r                                                                                                    \rHit:4 http://security.ubuntu.com/ubuntu jammy-security InRelease\n",
            "\u001b[33m\r0% [Waiting for headers] [Waiting for headers] [Connected to ppa.launchpadcontent.net (185.125.190.8\u001b[0m\r                                                                                                    \rHit:5 https://cloud.r-project.org/bin/linux/ubuntu jammy-cran40/ InRelease\n",
            "Hit:6 http://archive.ubuntu.com/ubuntu jammy-backports InRelease\n",
            "Hit:7 https://ppa.launchpadcontent.net/c2d4u.team/c2d4u4.0+/ubuntu jammy InRelease\n",
            "Hit:8 https://ppa.launchpadcontent.net/deadsnakes/ppa/ubuntu jammy InRelease\n",
            "Hit:9 https://ppa.launchpadcontent.net/graphics-drivers/ppa/ubuntu jammy InRelease\n",
            "Hit:10 https://ppa.launchpadcontent.net/ubuntugis/ppa/ubuntu jammy InRelease\n",
            "Reading package lists... Done\n",
            "Building dependency tree... Done\n",
            "Reading state information... Done\n",
            "51 packages can be upgraded. Run 'apt list --upgradable' to see them.\n",
            "Collecting getdns\n",
            "  Using cached getdns-v1.0.0b1.tar.gz (31 kB)\n",
            "  Preparing metadata (setup.py) ... \u001b[?25l\u001b[?25hdone\n",
            "Building wheels for collected packages: getdns\n",
            "  Building wheel for getdns (setup.py) ... \u001b[?25l\u001b[?25hdone\n",
            "  Created wheel for getdns: filename=getdns-1.0.0b1-cp310-cp310-linux_x86_64.whl size=88411 sha256=2717b88714dd25abb3e75bc85f4a3b1c777e928f09f7573bca0938d86185bb91\n",
            "  Stored in directory: /root/.cache/pip/wheels/f7/14/3b/b7904b5a602183b8d445ed3355c026f8a6b50568d5c6e94f5f\n",
            "Successfully built getdns\n",
            "Installing collected packages: getdns\n",
            "Successfully installed getdns-1.0.0b1\n"
          ]
        }
      ],
      "source": [
        "!apt update\n",
        "!pip install getdns"
      ]
    },
    {
      "cell_type": "code",
      "source": [
        "import getdns\n",
        "import sys\n",
        "import csv\n",
        "\n",
        "# Function to perform DNS resolution using getdns\n",
        "def resolve_domain(domain, resolver_ip):\n",
        "    try:\n",
        "        # Create a context with the specified resolver\n",
        "        context = getdns.Context()\n",
        "        context.resolution_type = getdns.RESOLUTION_STUB\n",
        "        context.upstream_recursive_servers = [\n",
        "            {\"address_data\": resolver_ip, \"address_type\": \"IPv4\"}\n",
        "        ]\n",
        "\n",
        "        # Perform the DNS resolution\n",
        "        results = context.address(name=domain)\n",
        "\n",
        "        # Check if the query was successful\n",
        "        if results.status == getdns.RESPSTATUS_GOOD:\n",
        "            print(f\"DNS resolution for {domain} succeeded using resolver {resolver_ip}.\")\n",
        "            for addr in results.just_address_answers:\n",
        "                print(f\"IP Address: {addr['address_data']}\")\n",
        "            return True\n",
        "        else:\n",
        "            print(f\"DNS resolution for {domain} failed with status: {results.status} using resolver {resolver_ip}\")\n",
        "            return False\n",
        "    except getdns.error as e:\n",
        "        print(f\"An error occurred: {e}\", file=sys.stderr)\n",
        "        return False\n",
        "\n",
        "# Function to read resolver IPs from a CSV file without headers\n",
        "def read_csv(file_path):\n",
        "    resolver_ips = []\n",
        "    try:\n",
        "        with open(file_path, mode='r') as file:\n",
        "            csv_reader = csv.reader(file)\n",
        "            for row in csv_reader:\n",
        "                resolver_ips.append(row[0])\n",
        "    except FileNotFoundError:\n",
        "        print(f\"Error: The file {file_path} was not found.\", file=sys.stderr)\n",
        "    except Exception as e:\n",
        "        print(f\"An error occurred while reading the CSV file: {e}\", file=sys.stderr)\n",
        "    return resolver_ips\n",
        "\n",
        "# Function to write successful resolver IPs to a CSV file\n",
        "def write_csv(file_path, data):\n",
        "    try:\n",
        "        with open(file_path, mode='w', newline='') as file:\n",
        "            csv_writer = csv.writer(file)\n",
        "            for row in data:\n",
        "                csv_writer.writerow([row])\n",
        "    except Exception as e:\n",
        "        print(f\"An error occurred while writing to the CSV file: {e}\", file=sys.stderr)\n",
        "\n",
        "# Main function\n",
        "def main():\n",
        "    resolver_ips = [\"8.8.8.8\", \"125.211.207.212\", \"185.175.49.49\", \"156.73.49.44\", \"132.246.16.136\", \"168.221.185.25\"]\n",
        "\n",
        "    file_path = 'results.csv'  # Path to your CSV file\n",
        "    # resolver_ips = read_csv(file_path)\n",
        "\n",
        "    domain = \"90daykorean.com\"  # Fixed domain to be resolved\n",
        "    output_file_path = 'successful_resolvers.csv'\n",
        "    # print(resolver_ips)\n",
        "\n",
        "    successful_resolvers = []\n",
        "\n",
        "    for resolver_ip in resolver_ips:\n",
        "        if resolve_domain(domain, resolver_ip):\n",
        "            successful_resolvers.append(resolver_ip)\n",
        "\n",
        "    write_csv(output_file_path, successful_resolvers)\n",
        "\n",
        "if __name__ == \"__main__\":\n",
        "    main()"
      ],
      "metadata": {
        "colab": {
          "base_uri": "https://localhost:8080/"
        },
        "id": "XTOQ7m2qhjLI",
        "outputId": "345ece87-3f87-4576-9c76-97e15221528b"
      },
      "execution_count": 17,
      "outputs": [
        {
          "output_type": "stream",
          "name": "stdout",
          "text": [
            "DNS resolution for 90daykorean.com succeeded using resolver 8.8.8.8.\n",
            "IP Address: 2606:4700:20::681a:807\n",
            "IP Address: 2606:4700:20::ac43:440a\n",
            "IP Address: 2606:4700:20::681a:907\n",
            "IP Address: 172.67.68.10\n",
            "IP Address: 104.26.9.7\n",
            "IP Address: 104.26.8.7\n",
            "DNS resolution for 90daykorean.com failed with status: 902 using resolver 125.211.207.212\n",
            "DNS resolution for 90daykorean.com succeeded using resolver 185.175.49.49.\n",
            "IP Address: 2607:f740:100:108::1400\n",
            "IP Address: 45.253.131.236\n",
            "DNS resolution for 90daykorean.com failed with status: 902 using resolver 156.73.49.44\n",
            "DNS resolution for 90daykorean.com failed with status: 902 using resolver 132.246.16.136\n",
            "DNS resolution for 90daykorean.com failed with status: 902 using resolver 168.221.185.25\n"
          ]
        }
      ]
    },
    {
      "cell_type": "code",
      "source": [
        "!sudo apt-get install geoip-bin"
      ],
      "metadata": {
        "colab": {
          "base_uri": "https://localhost:8080/"
        },
        "id": "yeSnqmtqeQlm",
        "outputId": "8c0217ae-63f9-42d7-c125-cbc77161c8f1"
      },
      "execution_count": 49,
      "outputs": [
        {
          "output_type": "stream",
          "name": "stdout",
          "text": [
            "Reading package lists... Done\n",
            "Building dependency tree... Done\n",
            "Reading state information... Done\n",
            "geoip-bin is already the newest version (1.6.12-8).\n",
            "0 upgraded, 0 newly installed, 0 to remove and 53 not upgraded.\n",
            "GeoIP Country Edition: GB, United Kingdom\n"
          ]
        }
      ]
    },
    {
      "cell_type": "code",
      "source": [
        "!geoiplookup 125.211.207.212"
      ],
      "metadata": {
        "colab": {
          "base_uri": "https://localhost:8080/"
        },
        "id": "BzWZ79GbetLs",
        "outputId": "879bc5df-6773-416a-ba41-2a41c04b5492"
      },
      "execution_count": 61,
      "outputs": [
        {
          "output_type": "stream",
          "name": "stdout",
          "text": [
            "GeoIP Country Edition: US, United States\n"
          ]
        }
      ]
    },
    {
      "cell_type": "code",
      "source": [
        "!curl ipinfo.io/125.211.207.212?token=04c76ddfcb630d"
      ],
      "metadata": {
        "colab": {
          "base_uri": "https://localhost:8080/"
        },
        "id": "Pdkt4E3esCjk",
        "outputId": "7418f3fa-3062-472c-a0b6-8681b9308026"
      },
      "execution_count": 67,
      "outputs": [
        {
          "output_type": "stream",
          "name": "stdout",
          "text": [
            "{\n",
            "  \"ip\": \"125.211.207.212\",\n",
            "  \"city\": \"Harbin\",\n",
            "  \"region\": \"Heilongjiang\",\n",
            "  \"country\": \"CN\",\n",
            "  \"loc\": \"45.7500,126.6500\",\n",
            "  \"postal\": \"150000\",\n",
            "  \"timezone\": \"Asia/Shanghai\",\n",
            "  \"asn\": {\n",
            "    \"asn\": \"AS4837\",\n",
            "    \"name\": \"CHINA UNICOM China169 Backbone\",\n",
            "    \"domain\": \"chinaunicom.cn\",\n",
            "    \"route\": \"125.211.0.0/16\",\n",
            "    \"type\": \"isp\"\n",
            "  },\n",
            "  \"company\": {\n",
            "    \"name\": \"China Unicom Heilongjiang Province Network\",\n",
            "    \"domain\": \"chinaunicom.cn\",\n",
            "    \"type\": \"isp\"\n",
            "  },\n",
            "  \"privacy\": {\n",
            "    \"vpn\": false,\n",
            "    \"proxy\": false,\n",
            "    \"tor\": false,\n",
            "    \"relay\": false,\n",
            "    \"hosting\": false,\n",
            "    \"service\": \"\"\n",
            "  },\n",
            "  \"abuse\": {\n",
            "    \"address\": \"No.21,Financial Street, Beijing,100033, P.R.China\",\n",
            "    \"country\": \"CN\",\n",
            "    \"email\": \"zhaoyz3@chinaunicom.cn\",\n",
            "    \"name\": \"ChinaUnicom Hostmaster\",\n",
            "    \"network\": \"125.211.0.0/16\",\n",
            "    \"phone\": \"+86-10-66259764\"\n",
            "  },\n",
            "  \"domains\": {\n",
            "    \"total\": 0,\n",
            "    \"domains\": []\n",
            "  }\n",
            "}"
          ]
        }
      ]
    }
  ]
}